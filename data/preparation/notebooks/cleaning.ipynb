{
 "cells": [
  {
   "cell_type": "markdown",
   "id": "749ee10d",
   "metadata": {},
   "source": [
    "# Hello world!"
   ]
  },
  {
   "cell_type": "code",
   "execution_count": 1,
   "id": "5a681a86",
   "metadata": {},
   "outputs": [],
   "source": [
    "import pandas as pd"
   ]
  },
  {
   "cell_type": "code",
   "execution_count": 2,
   "id": "4bc5c968",
   "metadata": {},
   "outputs": [
    {
     "data": {
      "text/html": [
       "<div>\n",
       "<style scoped>\n",
       "    .dataframe tbody tr th:only-of-type {\n",
       "        vertical-align: middle;\n",
       "    }\n",
       "\n",
       "    .dataframe tbody tr th {\n",
       "        vertical-align: top;\n",
       "    }\n",
       "\n",
       "    .dataframe thead th {\n",
       "        text-align: right;\n",
       "    }\n",
       "</style>\n",
       "<table border=\"1\" class=\"dataframe\">\n",
       "  <thead>\n",
       "    <tr style=\"text-align: right;\">\n",
       "      <th></th>\n",
       "      <th>subject</th>\n",
       "      <th>subject_type</th>\n",
       "      <th>relation</th>\n",
       "      <th>object</th>\n",
       "      <th>object_type</th>\n",
       "      <th>date</th>\n",
       "    </tr>\n",
       "  </thead>\n",
       "  <tbody>\n",
       "    <tr>\n",
       "      <th>0</th>\n",
       "      <td>pt manulife aset manajemen indonesia</td>\n",
       "      <td>PERUSAHAAN</td>\n",
       "      <td>Mengumumkan</td>\n",
       "      <td>diversifikasi investasi</td>\n",
       "      <td>KONSEP</td>\n",
       "      <td>2025-03-07 21:18:00</td>\n",
       "    </tr>\n",
       "    <tr>\n",
       "      <th>1</th>\n",
       "      <td>ihsg</td>\n",
       "      <td>INDIKATOR_EKONOMI</td>\n",
       "      <td>Menghasilkan</td>\n",
       "      <td>pertumbuhan tahunan tertinggi</td>\n",
       "      <td>INDIKATOR_EKONOMI</td>\n",
       "      <td>2025-03-07 21:18:00</td>\n",
       "    </tr>\n",
       "    <tr>\n",
       "      <th>2</th>\n",
       "      <td>strategi diversifikasi</td>\n",
       "      <td>KONSEP</td>\n",
       "      <td>Meningkatkan</td>\n",
       "      <td>peluang return</td>\n",
       "      <td>KONSEP</td>\n",
       "      <td>2025-03-07 21:18:00</td>\n",
       "    </tr>\n",
       "    <tr>\n",
       "      <th>3</th>\n",
       "      <td>investor</td>\n",
       "      <td>ORANG</td>\n",
       "      <td>Mengendalikan</td>\n",
       "      <td>berbagai jenis aset investasi</td>\n",
       "      <td>KONSEP</td>\n",
       "      <td>2025-03-07 21:18:00</td>\n",
       "    </tr>\n",
       "    <tr>\n",
       "      <th>4</th>\n",
       "      <td>dimas ardinugraha</td>\n",
       "      <td>ORANG</td>\n",
       "      <td>Mempengaruhi</td>\n",
       "      <td>strategi diversifikasi</td>\n",
       "      <td>KONSEP</td>\n",
       "      <td>2025-03-07 21:18:00</td>\n",
       "    </tr>\n",
       "  </tbody>\n",
       "</table>\n",
       "</div>"
      ],
      "text/plain": [
       "                                subject       subject_type       relation  \\\n",
       "0  pt manulife aset manajemen indonesia         PERUSAHAAN    Mengumumkan   \n",
       "1                                  ihsg  INDIKATOR_EKONOMI   Menghasilkan   \n",
       "2                strategi diversifikasi             KONSEP   Meningkatkan   \n",
       "3                              investor              ORANG  Mengendalikan   \n",
       "4                     dimas ardinugraha              ORANG   Mempengaruhi   \n",
       "\n",
       "                          object        object_type                 date  \n",
       "0        diversifikasi investasi             KONSEP  2025-03-07 21:18:00  \n",
       "1  pertumbuhan tahunan tertinggi  INDIKATOR_EKONOMI  2025-03-07 21:18:00  \n",
       "2                 peluang return             KONSEP  2025-03-07 21:18:00  \n",
       "3  berbagai jenis aset investasi             KONSEP  2025-03-07 21:18:00  \n",
       "4         strategi diversifikasi             KONSEP  2025-03-07 21:18:00  "
      ]
     },
     "execution_count": 2,
     "metadata": {},
     "output_type": "execute_result"
    }
   ],
   "source": [
    "pd.read_csv(r\"raw/IndovestDKG_FULL.csv\").head()"
   ]
  },
  {
   "cell_type": "code",
   "execution_count": 3,
   "id": "7e20accf",
   "metadata": {},
   "outputs": [],
   "source": [
    "full = pd.read_csv(r\"raw/IndovestDKG_FULL.csv\")\n",
    "force_drop = pd.read_csv(r\"raw/IndovestDKG_FORCEDROP.csv\")"
   ]
  },
  {
   "cell_type": "code",
   "execution_count": null,
   "id": "6d40c686",
   "metadata": {},
   "outputs": [],
   "source": []
  }
 ],
 "metadata": {
  "kernelspec": {
   "display_name": "base",
   "language": "python",
   "name": "python3"
  },
  "language_info": {
   "codemirror_mode": {
    "name": "ipython",
    "version": 3
   },
   "file_extension": ".py",
   "mimetype": "text/x-python",
   "name": "python",
   "nbconvert_exporter": "python",
   "pygments_lexer": "ipython3",
   "version": "3.12.7"
  }
 },
 "nbformat": 4,
 "nbformat_minor": 5
}
